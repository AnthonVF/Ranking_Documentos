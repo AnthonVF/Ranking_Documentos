{
  "metadata": {
    "kernelspec": {
      "language": "python",
      "display_name": "Python 3",
      "name": "python3"
    },
    "language_info": {
      "name": "python",
      "version": "3.10.14",
      "mimetype": "text/x-python",
      "codemirror_mode": {
        "name": "ipython",
        "version": 3
      },
      "pygments_lexer": "ipython3",
      "nbconvert_exporter": "python",
      "file_extension": ".py"
    },
    "kaggle": {
      "accelerator": "none",
      "dataSources": [
        {
          "sourceId": 9813413,
          "sourceType": "datasetVersion",
          "datasetId": 6016265
        }
      ],
      "dockerImageVersionId": 30786,
      "isInternetEnabled": false,
      "language": "python",
      "sourceType": "notebook",
      "isGpuEnabled": false
    },
    "colab": {
      "provenance": []
    }
  },
  "nbformat_minor": 0,
  "nbformat": 4,
  "cells": [
    {
      "cell_type": "markdown",
      "source": [
        "# Ejercicio 03: Cálculo de Relevancia y Ranking de Documentos\n",
        "El objetivo de este ejercicio es calcular analíticamente la relevancia de cada documento en un corpus y luego ordenar (rankear) los documentos basándonos en esa puntuación de relevancia para tres consultas específicas. Seguirás los siguientes pasos:\n",
        "\n",
        "Descripción del Ejercicio\n",
        "\n",
        "1. Procesamiento del Corpus:\n",
        "\n",
        "* Leer y parsear el archivo XML proporcionado que contiene el corpus de documentos con sus metadatos (keywords, autor y fecha).\n",
        "2. Procesamiento de las Consultas:\n",
        "\n",
        "* Definir las consultas proporcionadas.\n",
        "* Extraer las palabras clave de cada consulta.\n",
        "3. Cálculo de Relevancia:\n",
        "\n",
        "* Utilizar métricas de similitud (Similitud Coseno y Jaccard) entre la representación vectorial de los documentos y las de las consultas.\n",
        "* Calcular la puntuación de relevancia para cada documento del corpus respecto a cada consulta.\n",
        "4. Ranking de Documentos:\n",
        "\n",
        "* Ordenar los documentos en función de su puntuación de relevancia de mayor a menor.\n",
        "* Mostrar el ranking de documentos para cada consulta."
      ],
      "metadata": {
        "id": "C4PVSbGqBypd"
      }
    },
    {
      "cell_type": "markdown",
      "source": [
        " ### 1.- Procesamiento del Corpus\n",
        "\n",
        "- Leer y parsear el archivo XML proporcionado que contiene el corpus de documentos con sus metadatos (keywords, autor ya. fecha).\n",
        "fecha)."
      ],
      "metadata": {
        "id": "54hNXqDC-DIT"
      }
    },
    {
      "cell_type": "code",
      "source": [
        "import xml.etree.ElementTree as ET\n",
        "import pandas as pd\n",
        "\n",
        "# Función para leer y parsear el archivo XML\n",
        "def procesar_corpus_xml(archivo_xml):\n",
        "    # Parsear el archivo XML\n",
        "    tree = ET.parse(archivo_xml)\n",
        "    root = tree.getroot()\n",
        "\n",
        "    # Lista para almacenar los documentos\n",
        "    documentos = []\n",
        "\n",
        "    # Iterar sobre cada elemento \"document\" en el XML\n",
        "    for doc in root.findall('document'):\n",
        "        # Extraer metadatos del documento\n",
        "        texto = doc.find('text').text.strip() if doc.find('text') is not None else ''\n",
        "        autor = doc.find('author').text.strip() if doc.find('author') is not None else 'Desconocido'\n",
        "        fecha = doc.find('date').text.strip() if doc.find('date') is not None else 'No especificada'\n",
        "        keywords = doc.find('keywords').text.strip() if doc.find('keywords') is not None else 'Sin keywords'\n",
        "\n",
        "        # Agregar el documento a la lista\n",
        "        documentos.append({\n",
        "            'texto': texto,\n",
        "            'autor': autor,\n",
        "            'fecha': fecha,\n",
        "            'keywords': keywords\n",
        "        })\n",
        "\n",
        "    # Convertir la lista de documentos en un DataFrame de Pandas\n",
        "    df = pd.DataFrame(documentos)\n",
        "    return df\n",
        "\n",
        "# Uso de la función\n",
        "archivo_xml = '/content/03ranking_corpus.xml'\n",
        "df_corpus = procesar_corpus_xml(archivo_xml)\n",
        "\n",
        "# Mostrar una muestra del DataFrame procesado\n",
        "print(df_corpus.head())"
      ],
      "metadata": {
        "_uuid": "8f2839f25d086af736a60e9eeb907d3b93b6e0e5",
        "_cell_guid": "b1076dfc-b9ad-4769-8c92-a6c4dae69d19",
        "trusted": true,
        "execution": {
          "iopub.status.busy": "2024-11-08T04:18:51.460429Z",
          "iopub.execute_input": "2024-11-08T04:18:51.461054Z",
          "iopub.status.idle": "2024-11-08T04:18:51.484828Z",
          "shell.execute_reply.started": "2024-11-08T04:18:51.460997Z",
          "shell.execute_reply": "2024-11-08T04:18:51.483500Z"
        },
        "colab": {
          "base_uri": "https://localhost:8080/"
        },
        "id": "T1eOJ7pk972s",
        "outputId": "83e97454-b616-427c-d0a1-8c38bae5d4ab"
      },
      "outputs": [
        {
          "output_type": "stream",
          "name": "stdout",
          "text": [
            "  texto             autor       fecha  \\\n",
            "0          Dr. Juan Pérez  2023-01-15   \n",
            "1        Dra. María López  2023-02-10   \n",
            "2        Miguel Rodríguez  2023-03-05   \n",
            "3          Lucía Martínez  2023-04-20   \n",
            "4        Carlos Fernández  2023-05-15   \n",
            "\n",
            "                                            keywords  \n",
            "0  telemedicina, salud crónica, tratamiento, tecn...  \n",
            "1  nutrición, rendimiento académico, salud mental...  \n",
            "2  amistad, bienestar estudiantil, campus, relaci...  \n",
            "3  bibliotecas universitarias, investigación, aca...  \n",
            "4  espacios verdes, campus universitario, concent...  \n"
          ]
        }
      ],
      "execution_count": 1
    },
    {
      "cell_type": "markdown",
      "source": [
        "### 2.- Procesamiento de las Consultas:\n",
        "\n",
        "- Definir las consultas proporcionadas."
      ],
      "metadata": {
        "id": "Xlz7Jc3K972x"
      }
    },
    {
      "cell_type": "code",
      "source": [
        "# Definir las consultas\n",
        "queries = {\n",
        "    1: \"Impacto de la salud mental en el rendimiento académico de los estudiantes universitarios\",\n",
        "    2: \"Actividades extracurriculares y bienestar emocional en el campus universitario\",\n",
        "    3: \"Estrategias universitarias para reducir el estrés en estudiantes\"\n",
        "}"
      ],
      "metadata": {
        "trusted": true,
        "execution": {
          "iopub.status.busy": "2024-11-08T04:19:47.053079Z",
          "iopub.execute_input": "2024-11-08T04:19:47.053510Z",
          "iopub.status.idle": "2024-11-08T04:19:47.061607Z",
          "shell.execute_reply.started": "2024-11-08T04:19:47.053470Z",
          "shell.execute_reply": "2024-11-08T04:19:47.060117Z"
        },
        "id": "Jt5orwUa972z"
      },
      "outputs": [],
      "execution_count": 2
    },
    {
      "cell_type": "markdown",
      "source": [
        "- Extraer las palabras clave de cada consulta."
      ],
      "metadata": {
        "id": "hWWM3xEr-ygr"
      }
    },
    {
      "cell_type": "code",
      "source": [
        "import nltk\n",
        "nltk.download('stopwords')\n",
        "nltk.download('punkt')\n",
        "import re\n",
        "from nltk.corpus import stopwords\n",
        "from nltk.tokenize import word_tokenize\n",
        "\n",
        "# Cargar stopwords en español\n",
        "stop_words = set(stopwords.words('spanish'))\n",
        "\n",
        "# Definir función para extraer palabras clave\n",
        "def extraer_palabras_clave(consulta, stop_words):\n",
        "    # Convertir a minúsculas\n",
        "    consulta = consulta.lower()\n",
        "    # Tokenizar la consulta (solo palabras alfanuméricas)\n",
        "    tokens = word_tokenize(consulta)\n",
        "    # Filtrar tokens: eliminar stopwords y caracteres especiales\n",
        "    palabras_clave = [word for word in tokens if word.isalpha() and word not in stop_words]\n",
        "    return palabras_clave\n",
        "\n",
        "# Crear diccionario para almacenar las palabras clave de cada consulta\n",
        "palabras_clave_queries = {}\n",
        "\n",
        "# Extraer palabras clave de cada consulta\n",
        "for query_id, query_text in queries.items():\n",
        "    palabras_clave = extraer_palabras_clave(query_text, stop_words)\n",
        "    palabras_clave_queries[query_id] = palabras_clave\n",
        "\n",
        "# Mostrar las palabras clave extraídas de cada consulta\n",
        "print(\"Palabras clave extraídas por consulta:\")\n",
        "for query_id, keywords in palabras_clave_queries.items():\n",
        "    print(f\"Consulta {query_id}: {keywords}\")"
      ],
      "metadata": {
        "colab": {
          "base_uri": "https://localhost:8080/"
        },
        "id": "rUaUos5i-5q6",
        "outputId": "a94b2e6c-e9c3-4394-bf0e-4078b3720ba4"
      },
      "execution_count": 3,
      "outputs": [
        {
          "output_type": "stream",
          "name": "stdout",
          "text": [
            "Palabras clave extraídas por consulta:\n",
            "Consulta 1: ['impacto', 'salud', 'mental', 'rendimiento', 'académico', 'estudiantes', 'universitarios']\n",
            "Consulta 2: ['actividades', 'extracurriculares', 'bienestar', 'emocional', 'campus', 'universitario']\n",
            "Consulta 3: ['estrategias', 'universitarias', 'reducir', 'estrés', 'estudiantes']\n"
          ]
        },
        {
          "output_type": "stream",
          "name": "stderr",
          "text": [
            "[nltk_data] Downloading package stopwords to /root/nltk_data...\n",
            "[nltk_data]   Package stopwords is already up-to-date!\n",
            "[nltk_data] Downloading package punkt to /root/nltk_data...\n",
            "[nltk_data]   Package punkt is already up-to-date!\n"
          ]
        }
      ]
    },
    {
      "cell_type": "markdown",
      "source": [
        "### 3.- Cálculo de Relevancia:"
      ],
      "metadata": {
        "id": "l7xiCXzE9722"
      }
    },
    {
      "cell_type": "markdown",
      "source": [
        "- Utilizar métricas de similitud Coseno entre la representación vectorial de los documentos y las de las consultas."
      ],
      "metadata": {
        "id": "FLJIqZI8_Sxr"
      }
    },
    {
      "cell_type": "code",
      "source": [
        "from sklearn.metrics.pairwise import cosine_similarity\n",
        "from sklearn.feature_extraction.text import TfidfVectorizer\n",
        "from sklearn.preprocessing import binarize\n",
        "import pandas as pd\n",
        "import numpy as np\n",
        "\n",
        "# Crear el vocabulario usando el contenido completo de documentos y consultas\n",
        "# Extraer textos y concatenar con keywords para obtener mejor vocabulario\n",
        "docs_content = (df_corpus['texto'] + \" \" + df_corpus['keywords']).tolist()\n",
        "queries_content = [\" \".join(palabras_clave_queries[q]) for q in palabras_clave_queries]\n",
        "\n",
        "# Lista combinada de textos de documentos y textos de consultas\n",
        "all_texts = docs_content + queries_content\n",
        "\n",
        "# Vectorizador TF-IDF para todo el vocabulario generado\n",
        "vectorizer = TfidfVectorizer()\n",
        "tfidf_matrix = vectorizer.fit_transform(all_texts)\n",
        "\n",
        "# Separar matriz TF-IDF en documentos y consultas\n",
        "tfidf_docs = tfidf_matrix[:len(docs_content)]\n",
        "tfidf_queries = tfidf_matrix[len(docs_content):]"
      ],
      "metadata": {
        "id": "YVS_Apc5KKKY"
      },
      "execution_count": 4,
      "outputs": []
    },
    {
      "cell_type": "code",
      "source": [
        "# Calcular Similitud del Coseno\n",
        "cosine_sim_matrix = cosine_similarity(tfidf_queries, tfidf_docs)"
      ],
      "metadata": {
        "id": "0eT4NrAyKMJH"
      },
      "execution_count": 5,
      "outputs": []
    },
    {
      "cell_type": "markdown",
      "source": [
        "- Utilizar métricas de similitud Jaccard entre la representación vectorial de los documentos y las de las consultas."
      ],
      "metadata": {
        "id": "FaBmQ2sN_e2f"
      }
    },
    {
      "cell_type": "code",
      "source": [
        "# Calcular Similitud de Jaccard\n",
        "def jaccard_similarity(vector1, vector2):\n",
        "    # Convertir a binario\n",
        "    vector1 = binarize(vector1.toarray())[0]\n",
        "    vector2 = binarize(vector2.toarray())[0]\n",
        "    # Calcular similitud de Jaccard\n",
        "    intersection = np.sum(np.minimum(vector1, vector2))\n",
        "    union = np.sum(np.maximum(vector1, vector2))\n",
        "    return intersection / union if union != 0 else 0\n",
        "\n",
        "# Crear matriz de similitud de Jaccard\n",
        "jaccard_sim_matrix = np.zeros((len(queries_content), len(docs_content)))\n",
        "\n",
        "for i, query_vector in enumerate(tfidf_queries):\n",
        "    for j, doc_vector in enumerate(tfidf_docs):\n",
        "        jaccard_sim_matrix[i, j] = jaccard_similarity(query_vector, doc_vector)\n"
      ],
      "metadata": {
        "id": "9QH0a79kK903"
      },
      "execution_count": 6,
      "outputs": []
    },
    {
      "cell_type": "markdown",
      "source": [
        "- Calcular la puntuación de relevancia para cada documento del corpus respecto a cada consulta."
      ],
      "metadata": {
        "id": "PIa8rG2X_mUX"
      }
    },
    {
      "cell_type": "code",
      "source": [
        "# Crear DataFrames para ambas métricas\n",
        "cosine_df = pd.DataFrame(\n",
        "    cosine_sim_matrix,\n",
        "    index=[f\"Consulta {i+1}\" for i in range(len(queries_content))],\n",
        "    columns=[f\"Documento {j+1}\" for j in range(len(docs_content))]\n",
        ")\n",
        "\n",
        "jaccard_df = pd.DataFrame(\n",
        "    jaccard_sim_matrix,\n",
        "    index=[f\"Consulta {i+1}\" for i in range(len(queries_content))],\n",
        "    columns=[f\"Documento {j+1}\" for j in range(len(docs_content))]\n",
        ")\n",
        "\n",
        "# --- Mostrar Resultados ---\n",
        "print(\"Matriz de Similitud del Coseno:\")\n",
        "print(cosine_df)\n",
        "\n",
        "print(\"\\nMatriz de Similitud de Jaccard:\")\n",
        "print(jaccard_df)"
      ],
      "metadata": {
        "colab": {
          "base_uri": "https://localhost:8080/"
        },
        "id": "kvWMiwhBLBf_",
        "outputId": "c34ad02f-b1ea-4c01-daca-c977df410390"
      },
      "execution_count": 7,
      "outputs": [
        {
          "output_type": "stream",
          "name": "stdout",
          "text": [
            "Matriz de Similitud del Coseno:\n",
            "            Documento 1  Documento 2  Documento 3  Documento 4  Documento 5  \\\n",
            "Consulta 1     0.095716     0.644617     0.000000     0.000000     0.000000   \n",
            "Consulta 2     0.000000     0.000000     0.227196     0.000000     0.303344   \n",
            "Consulta 3     0.000000     0.054051     0.000000     0.199459     0.147081   \n",
            "\n",
            "            Documento 6  Documento 7  Documento 8  Documento 9  Documento 10  \\\n",
            "Consulta 1     0.048043     0.725969     0.041472          0.0           0.0   \n",
            "Consulta 2     0.096251     0.000000     0.213397          0.0           0.0   \n",
            "Consulta 3     0.046476     0.000000     0.040119          0.0           0.0   \n",
            "\n",
            "            ...  Documento 21  Documento 22  Documento 23  Documento 24  \\\n",
            "Consulta 1  ...      0.270267           0.0      0.147657      0.047237   \n",
            "Consulta 2  ...      0.000000           0.0      0.316191      0.000000   \n",
            "Consulta 3  ...      0.000000           0.0      0.045091      0.260243   \n",
            "\n",
            "            Documento 25  Documento 26  Documento 27  Documento 28  \\\n",
            "Consulta 1       0.00000      0.037892      0.044147      0.000000   \n",
            "Consulta 2       0.23286      0.000000      0.000000      0.077932   \n",
            "Consulta 3       0.00000      0.036655      0.042706      0.127943   \n",
            "\n",
            "            Documento 29  Documento 30  \n",
            "Consulta 1      0.165265           0.0  \n",
            "Consulta 2      0.000000           0.0  \n",
            "Consulta 3      0.040086           0.0  \n",
            "\n",
            "[3 rows x 30 columns]\n",
            "\n",
            "Matriz de Similitud de Jaccard:\n",
            "            Documento 1  Documento 2  Documento 3  Documento 4  Documento 5  \\\n",
            "Consulta 1     0.083333        0.625          0.0     0.000000          0.0   \n",
            "Consulta 2     0.000000        0.000          0.2     0.000000          0.2   \n",
            "Consulta 3     0.000000        0.100          0.0     0.111111          0.1   \n",
            "\n",
            "            Documento 6  Documento 7  Documento 8  Documento 9  Documento 10  \\\n",
            "Consulta 1     0.083333        0.625     0.083333          0.0           0.0   \n",
            "Consulta 2     0.090909        0.000     0.200000          0.0           0.0   \n",
            "Consulta 3     0.100000        0.000     0.100000          0.0           0.0   \n",
            "\n",
            "            ...  Documento 21  Documento 22  Documento 23  Documento 24  \\\n",
            "Consulta 1  ...      0.166667           0.0      0.166667      0.083333   \n",
            "Consulta 2  ...      0.000000           0.0      0.181818      0.000000   \n",
            "Consulta 3  ...      0.000000           0.0      0.090909      0.222222   \n",
            "\n",
            "            Documento 25  Documento 26  Documento 27  Documento 28  \\\n",
            "Consulta 1      0.000000      0.076923      0.083333      0.000000   \n",
            "Consulta 2      0.181818      0.000000      0.000000      0.076923   \n",
            "Consulta 3      0.000000      0.090909      0.100000      0.083333   \n",
            "\n",
            "            Documento 29  Documento 30  \n",
            "Consulta 1      0.153846           0.0  \n",
            "Consulta 2      0.000000           0.0  \n",
            "Consulta 3      0.083333           0.0  \n",
            "\n",
            "[3 rows x 30 columns]\n"
          ]
        }
      ]
    },
    {
      "cell_type": "markdown",
      "source": [
        "### 4.- Ranking de Documentos:\n",
        "\n",
        "- Ordenar los documentos en función de su puntuación de relevancia de mayor a menor."
      ],
      "metadata": {
        "id": "9w599hUC9726"
      }
    },
    {
      "cell_type": "code",
      "source": [
        "# Generar el ranking de relevancia\n",
        "def obtener_ranking(similarity_df):\n",
        "    rankings = {}\n",
        "    for query_idx in similarity_df.index:\n",
        "        # Ordenar documentos por relevancia de mayor a menor\n",
        "        ranking = similarity_df.loc[query_idx].sort_values(ascending=False)\n",
        "        rankings[query_idx] = ranking\n",
        "    return rankings\n",
        "\n",
        "# Obtener rankings de Similitud del Coseno\n",
        "cosine_rankings = obtener_ranking(cosine_df)\n",
        "\n",
        "# Obtener rankings de Similitud de Jaccard\n",
        "jaccard_rankings = obtener_ranking(jaccard_df)"
      ],
      "metadata": {
        "id": "AKBPxb7mLukQ"
      },
      "execution_count": 8,
      "outputs": []
    },
    {
      "cell_type": "markdown",
      "source": [
        "- Mostrar el ranking de documentos para cada consulta."
      ],
      "metadata": {
        "id": "Fg4E3Ro-_0tG"
      }
    },
    {
      "cell_type": "code",
      "source": [
        "# Función para imprimir el ranking de documentos\n",
        "def mostrar_ranking(rankings, metodo):\n",
        "    print(f\"\\nRanking de documentos por {metodo}:\\n\")\n",
        "    for query, ranking in rankings.items():\n",
        "        print(f\"{query}:\")\n",
        "        for doc, score in ranking.items():\n",
        "            print(f\"  {doc} -> Relevancia: {score:.4f}\")\n",
        "\n",
        "# Mostrar ranking por Similitud del Coseno\n",
        "mostrar_ranking(cosine_rankings, \"Similitud del Coseno\")\n",
        "\n",
        "# Mostrar ranking por Similitud de Jaccard\n",
        "mostrar_ranking(jaccard_rankings, \"Similitud de Jaccard\")"
      ],
      "metadata": {
        "colab": {
          "base_uri": "https://localhost:8080/"
        },
        "id": "8RmdtJdPLx-I",
        "outputId": "45150989-d4e7-4ba4-b30b-7e99da2b4cfa"
      },
      "execution_count": 9,
      "outputs": [
        {
          "output_type": "stream",
          "name": "stdout",
          "text": [
            "\n",
            "Ranking de documentos por Similitud del Coseno:\n",
            "\n",
            "Consulta 1:\n",
            "  Documento 7 -> Relevancia: 0.7260\n",
            "  Documento 2 -> Relevancia: 0.6446\n",
            "  Documento 14 -> Relevancia: 0.5415\n",
            "  Documento 11 -> Relevancia: 0.4370\n",
            "  Documento 13 -> Relevancia: 0.3493\n",
            "  Documento 18 -> Relevancia: 0.2908\n",
            "  Documento 21 -> Relevancia: 0.2703\n",
            "  Documento 19 -> Relevancia: 0.2320\n",
            "  Documento 29 -> Relevancia: 0.1653\n",
            "  Documento 12 -> Relevancia: 0.1620\n",
            "  Documento 23 -> Relevancia: 0.1477\n",
            "  Documento 1 -> Relevancia: 0.0957\n",
            "  Documento 15 -> Relevancia: 0.0541\n",
            "  Documento 6 -> Relevancia: 0.0480\n",
            "  Documento 24 -> Relevancia: 0.0472\n",
            "  Documento 27 -> Relevancia: 0.0441\n",
            "  Documento 20 -> Relevancia: 0.0429\n",
            "  Documento 8 -> Relevancia: 0.0415\n",
            "  Documento 26 -> Relevancia: 0.0379\n",
            "  Documento 25 -> Relevancia: 0.0000\n",
            "  Documento 28 -> Relevancia: 0.0000\n",
            "  Documento 16 -> Relevancia: 0.0000\n",
            "  Documento 22 -> Relevancia: 0.0000\n",
            "  Documento 17 -> Relevancia: 0.0000\n",
            "  Documento 10 -> Relevancia: 0.0000\n",
            "  Documento 9 -> Relevancia: 0.0000\n",
            "  Documento 5 -> Relevancia: 0.0000\n",
            "  Documento 4 -> Relevancia: 0.0000\n",
            "  Documento 3 -> Relevancia: 0.0000\n",
            "  Documento 30 -> Relevancia: 0.0000\n",
            "Consulta 2:\n",
            "  Documento 15 -> Relevancia: 0.7095\n",
            "  Documento 23 -> Relevancia: 0.3162\n",
            "  Documento 5 -> Relevancia: 0.3033\n",
            "  Documento 25 -> Relevancia: 0.2329\n",
            "  Documento 3 -> Relevancia: 0.2272\n",
            "  Documento 8 -> Relevancia: 0.2134\n",
            "  Documento 17 -> Relevancia: 0.1359\n",
            "  Documento 6 -> Relevancia: 0.0963\n",
            "  Documento 18 -> Relevancia: 0.0913\n",
            "  Documento 28 -> Relevancia: 0.0779\n",
            "  Documento 21 -> Relevancia: 0.0000\n",
            "  Documento 22 -> Relevancia: 0.0000\n",
            "  Documento 1 -> Relevancia: 0.0000\n",
            "  Documento 24 -> Relevancia: 0.0000\n",
            "  Documento 20 -> Relevancia: 0.0000\n",
            "  Documento 27 -> Relevancia: 0.0000\n",
            "  Documento 29 -> Relevancia: 0.0000\n",
            "  Documento 26 -> Relevancia: 0.0000\n",
            "  Documento 16 -> Relevancia: 0.0000\n",
            "  Documento 19 -> Relevancia: 0.0000\n",
            "  Documento 2 -> Relevancia: 0.0000\n",
            "  Documento 14 -> Relevancia: 0.0000\n",
            "  Documento 13 -> Relevancia: 0.0000\n",
            "  Documento 12 -> Relevancia: 0.0000\n",
            "  Documento 11 -> Relevancia: 0.0000\n",
            "  Documento 10 -> Relevancia: 0.0000\n",
            "  Documento 9 -> Relevancia: 0.0000\n",
            "  Documento 7 -> Relevancia: 0.0000\n",
            "  Documento 4 -> Relevancia: 0.0000\n",
            "  Documento 30 -> Relevancia: 0.0000\n",
            "Consulta 3:\n",
            "  Documento 24 -> Relevancia: 0.2602\n",
            "  Documento 11 -> Relevancia: 0.2407\n",
            "  Documento 4 -> Relevancia: 0.1995\n",
            "  Documento 5 -> Relevancia: 0.1471\n",
            "  Documento 28 -> Relevancia: 0.1279\n",
            "  Documento 2 -> Relevancia: 0.0541\n",
            "  Documento 15 -> Relevancia: 0.0523\n",
            "  Documento 12 -> Relevancia: 0.0495\n",
            "  Documento 14 -> Relevancia: 0.0489\n",
            "  Documento 6 -> Relevancia: 0.0465\n",
            "  Documento 23 -> Relevancia: 0.0451\n",
            "  Documento 18 -> Relevancia: 0.0441\n",
            "  Documento 27 -> Relevancia: 0.0427\n",
            "  Documento 20 -> Relevancia: 0.0415\n",
            "  Documento 13 -> Relevancia: 0.0406\n",
            "  Documento 19 -> Relevancia: 0.0404\n",
            "  Documento 8 -> Relevancia: 0.0401\n",
            "  Documento 29 -> Relevancia: 0.0401\n",
            "  Documento 26 -> Relevancia: 0.0367\n",
            "  Documento 25 -> Relevancia: 0.0000\n",
            "  Documento 1 -> Relevancia: 0.0000\n",
            "  Documento 16 -> Relevancia: 0.0000\n",
            "  Documento 22 -> Relevancia: 0.0000\n",
            "  Documento 21 -> Relevancia: 0.0000\n",
            "  Documento 17 -> Relevancia: 0.0000\n",
            "  Documento 10 -> Relevancia: 0.0000\n",
            "  Documento 9 -> Relevancia: 0.0000\n",
            "  Documento 7 -> Relevancia: 0.0000\n",
            "  Documento 3 -> Relevancia: 0.0000\n",
            "  Documento 30 -> Relevancia: 0.0000\n",
            "\n",
            "Ranking de documentos por Similitud de Jaccard:\n",
            "\n",
            "Consulta 1:\n",
            "  Documento 2 -> Relevancia: 0.6250\n",
            "  Documento 7 -> Relevancia: 0.6250\n",
            "  Documento 14 -> Relevancia: 0.5556\n",
            "  Documento 11 -> Relevancia: 0.4444\n",
            "  Documento 13 -> Relevancia: 0.3333\n",
            "  Documento 18 -> Relevancia: 0.2727\n",
            "  Documento 19 -> Relevancia: 0.2500\n",
            "  Documento 12 -> Relevancia: 0.2000\n",
            "  Documento 23 -> Relevancia: 0.1667\n",
            "  Documento 21 -> Relevancia: 0.1667\n",
            "  Documento 29 -> Relevancia: 0.1538\n",
            "  Documento 8 -> Relevancia: 0.0833\n",
            "  Documento 6 -> Relevancia: 0.0833\n",
            "  Documento 15 -> Relevancia: 0.0833\n",
            "  Documento 27 -> Relevancia: 0.0833\n",
            "  Documento 24 -> Relevancia: 0.0833\n",
            "  Documento 1 -> Relevancia: 0.0833\n",
            "  Documento 26 -> Relevancia: 0.0769\n",
            "  Documento 20 -> Relevancia: 0.0769\n",
            "  Documento 25 -> Relevancia: 0.0000\n",
            "  Documento 28 -> Relevancia: 0.0000\n",
            "  Documento 16 -> Relevancia: 0.0000\n",
            "  Documento 22 -> Relevancia: 0.0000\n",
            "  Documento 17 -> Relevancia: 0.0000\n",
            "  Documento 10 -> Relevancia: 0.0000\n",
            "  Documento 9 -> Relevancia: 0.0000\n",
            "  Documento 5 -> Relevancia: 0.0000\n",
            "  Documento 4 -> Relevancia: 0.0000\n",
            "  Documento 3 -> Relevancia: 0.0000\n",
            "  Documento 30 -> Relevancia: 0.0000\n",
            "Consulta 2:\n",
            "  Documento 15 -> Relevancia: 0.5000\n",
            "  Documento 3 -> Relevancia: 0.2000\n",
            "  Documento 5 -> Relevancia: 0.2000\n",
            "  Documento 8 -> Relevancia: 0.2000\n",
            "  Documento 23 -> Relevancia: 0.1818\n",
            "  Documento 25 -> Relevancia: 0.1818\n",
            "  Documento 17 -> Relevancia: 0.0909\n",
            "  Documento 6 -> Relevancia: 0.0909\n",
            "  Documento 18 -> Relevancia: 0.0833\n",
            "  Documento 28 -> Relevancia: 0.0769\n",
            "  Documento 21 -> Relevancia: 0.0000\n",
            "  Documento 22 -> Relevancia: 0.0000\n",
            "  Documento 1 -> Relevancia: 0.0000\n",
            "  Documento 24 -> Relevancia: 0.0000\n",
            "  Documento 20 -> Relevancia: 0.0000\n",
            "  Documento 27 -> Relevancia: 0.0000\n",
            "  Documento 29 -> Relevancia: 0.0000\n",
            "  Documento 26 -> Relevancia: 0.0000\n",
            "  Documento 16 -> Relevancia: 0.0000\n",
            "  Documento 19 -> Relevancia: 0.0000\n",
            "  Documento 2 -> Relevancia: 0.0000\n",
            "  Documento 14 -> Relevancia: 0.0000\n",
            "  Documento 13 -> Relevancia: 0.0000\n",
            "  Documento 12 -> Relevancia: 0.0000\n",
            "  Documento 11 -> Relevancia: 0.0000\n",
            "  Documento 10 -> Relevancia: 0.0000\n",
            "  Documento 9 -> Relevancia: 0.0000\n",
            "  Documento 7 -> Relevancia: 0.0000\n",
            "  Documento 4 -> Relevancia: 0.0000\n",
            "  Documento 30 -> Relevancia: 0.0000\n",
            "Consulta 3:\n",
            "  Documento 11 -> Relevancia: 0.2222\n",
            "  Documento 24 -> Relevancia: 0.2222\n",
            "  Documento 12 -> Relevancia: 0.1111\n",
            "  Documento 4 -> Relevancia: 0.1111\n",
            "  Documento 5 -> Relevancia: 0.1000\n",
            "  Documento 6 -> Relevancia: 0.1000\n",
            "  Documento 8 -> Relevancia: 0.1000\n",
            "  Documento 27 -> Relevancia: 0.1000\n",
            "  Documento 15 -> Relevancia: 0.1000\n",
            "  Documento 2 -> Relevancia: 0.1000\n",
            "  Documento 18 -> Relevancia: 0.0909\n",
            "  Documento 20 -> Relevancia: 0.0909\n",
            "  Documento 26 -> Relevancia: 0.0909\n",
            "  Documento 23 -> Relevancia: 0.0909\n",
            "  Documento 14 -> Relevancia: 0.0909\n",
            "  Documento 19 -> Relevancia: 0.0833\n",
            "  Documento 29 -> Relevancia: 0.0833\n",
            "  Documento 28 -> Relevancia: 0.0833\n",
            "  Documento 13 -> Relevancia: 0.0769\n",
            "  Documento 25 -> Relevancia: 0.0000\n",
            "  Documento 1 -> Relevancia: 0.0000\n",
            "  Documento 16 -> Relevancia: 0.0000\n",
            "  Documento 22 -> Relevancia: 0.0000\n",
            "  Documento 21 -> Relevancia: 0.0000\n",
            "  Documento 17 -> Relevancia: 0.0000\n",
            "  Documento 10 -> Relevancia: 0.0000\n",
            "  Documento 9 -> Relevancia: 0.0000\n",
            "  Documento 7 -> Relevancia: 0.0000\n",
            "  Documento 3 -> Relevancia: 0.0000\n",
            "  Documento 30 -> Relevancia: 0.0000\n"
          ]
        }
      ]
    }
  ]
}